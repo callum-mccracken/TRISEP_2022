{
 "cells": [
  {
   "cell_type": "markdown",
   "id": "52aff5f9-91d9-4e4d-91b7-eb30f6559f02",
   "metadata": {},
   "source": [
    "# 1.C: Frequentist analysis of the radioactivity experiment (1 parameter)\n",
    "\n",
    "**Question:** What is the activity of this radioactive source? \n",
    "\n",
    "Since the outcome of the experiment is unpredictable, the answer to the question can only be probabilistic, not definitive.\n",
    "\n",
    "The approach depends on the precise definition of probability. This tutorial shows the approach for Frequentist probability."
   ]
  },
  {
   "cell_type": "code",
   "execution_count": 1,
   "id": "c9305033-5606-4f9b-b1f4-bb80b89ce692",
   "metadata": {},
   "outputs": [],
   "source": [
    "# Import modules needed for this tutorial\n",
    "\n",
    "from trisep.RadioactiveSource import RadioactiveSource\n",
    "from trisep.RadiationCounter import RadiationCounter, SimulatedRadiationCounter\n",
    "from trisep.MarkovChain import MarkovChain\n",
    "import copy\n",
    "import numpy as np\n",
    "from scipy import stats\n",
    "import pandas as pd\n",
    "\n",
    "%matplotlib inline\n",
    "import matplotlib.pyplot as plt\n",
    "plt.style.use('dark_background') # only include this if you use a dark background for Jupyter Lab\n",
    "\n",
    "from iminuit import Minuit"
   ]
  },
  {
   "cell_type": "markdown",
   "id": "079779a8-00c0-4af9-ae54-2b860c5068d0",
   "metadata": {},
   "source": [
    "## Frequentist confidence interval\n",
    "\n",
    "Suppose the experiment records 6 decays in 10 seconds:\n",
    "- For some values for activity, the observation (6 counts) would seem anomalous \n",
    "  - For example, if the activity was 2 Bq, it would seem unusual to record 6 (or fewer) decays in 10 seconds"
   ]
  },
  {
   "cell_type": "code",
   "execution_count": 8,
   "id": "d5b576c7-223c-47bd-8627-49f5b3d60785",
   "metadata": {},
   "outputs": [
    {
     "name": "stdout",
     "output_type": "stream",
     "text": [
      "Simulated detector built. Counting time = 10.0 Efficiency = 1.0 Background rate= 0.0 (Hz)\n"
     ]
    },
    {
     "data": {
      "image/png": "[encoded data removed]",
      "text/plain": [
       "<Figure size 432x288 with 1 Axes>"
      ]
     },
     "metadata": {},
     "output_type": "display_data"
    }
   ],
   "source": [
    "# Does it appear reasonable that the lab source activity is 0.6 Bq?\n",
    "# Does it appear reasonable that the lab source activity is 2.0 Bq?\n",
    "\n",
    "sim_source = RadioactiveSource(2.) # specifies the activity of simulated source\n",
    "sim_detector = SimulatedRadiationCounter() # this is NOT the lab detector, just a simulation of a detector\n",
    "\n",
    "sim_detector.insert_known_source(sim_source)\n",
    "sim_detector.set_counting_time(10)\n",
    "\n",
    "sim_counts = []\n",
    "for i in range(1000):\n",
    "    sim_detector.start()\n",
    "    sim_counts.append(sim_detector.get_count())\n",
    "\n",
    "plt.hist(sim_counts,bins=np.arange(0.,40.,0.5), align='left')\n",
    "plt.show()"
   ]
  },
  {
   "cell_type": "markdown",
   "id": "84319ea2-ed22-43bd-b016-19e7556257f4",
   "metadata": {},
   "source": [
    "The likelihood to see 6 or fewer counts from a source of activity 2 Bq appears to be small indeed. How can we quantify that?\n",
    "\n",
    "\n"
   ]
  },
  {
   "cell_type": "code",
   "execution_count": null,
   "id": "f88de65c-2339-4a6a-ad33-43cf70b64e54",
   "metadata": {},
   "outputs": [],
   "source": [
    "# Look to see how often such a small number of counts occur:\n",
    "\n",
    "sim_source.set_activity(2.)\n",
    "\n",
    "observed = 6\n",
    "trials = 100000\n",
    "low_counts = 0\n",
    "\n",
    "for i in range(trials):\n",
    "\n",
    "    \n",
    "    \n",
    "print(observed,'or less counts occured in',low_counts,'of',trials,'trials')"
   ]
  },
  {
   "cell_type": "markdown",
   "id": "22a42858-ec44-46f9-971b-a1454f25c2f0",
   "metadata": {},
   "source": [
    "A very small fraction of experiments with a 2 Bq source would see 6 or fewer counts.\n",
    "\n",
    "This study is a one-sided test of the hypothesis that the source activity is 2 Bq. \n",
    " - one-sided: Alternative hypotheses under consideration have activities lower than 2 Bq. \n",
    " - in other words, only very low counts are considered to be anomalous\n",
    "\n",
    "Review: Hypothesis tests\n",
    "\n",
    " - What is the p-value for this hypothesis test?\n",
    " - Is the 2 Bq hypothesis rejected at 95% CL?\n",
    " - What activity values are not rejected at 95% CL?\n",
    "   - Those activity values constitute the 95% upper confidence interval, $[0,a^{up}_{95}]$.\n",
    "   \n",
    "Confidence intervals are produced by following a recipe like this, decided upon before seeing data. The recipe is valid provided that\n",
    "at least 95% of intervals contain the true value, if the model is correct.\n",
    "\n",
    "For this example, the hypothesis test rejects the true hypothesis no more than 5% of repeated experiments. It is for those rare outcomes that the reported interval will not contain the true value, whereas the other experiments will report an interval containing the true value."
   ]
  },
  {
   "cell_type": "code",
   "execution_count": null,
   "id": "bb822295-08d5-4191-bb9f-57c2f2b6a6f7",
   "metadata": {},
   "outputs": [],
   "source": [
    "# 95% confidence level upper limit\n",
    "# --------------------------------\n",
    "\n",
    "# consider activities in the range 1-1.4, in steps of 0.01. Which hypotheses are rejected at 95% CL?\n",
    "\n",
    "observed = 6\n",
    "trials = 10000\n",
    "\n",
    "for activity in np.arange(1.0,1.4,0.01):\n",
    "\n",
    "\n",
    "    print('For activity =',round(activity,2),'Bq',anomalies,'anomalies were seen in',trials,'trials')\n",
    "\n",
    "# The 95% confidence upper limit is the highest value for activity that is not rejected.\n"
   ]
  },
  {
   "cell_type": "code",
   "execution_count": null,
   "id": "856adb1d-53cc-40fa-85d2-90a869146744",
   "metadata": {},
   "outputs": [],
   "source": [
    "\n",
    "\n",
    "\n",
    "\n",
    "A frequentist 95% confidence interval is a range of values of the parameter (activity in this case) whose endpoints are calculated following a recipe. The recipe is decided upon before observing the data. When applied to simulated data, valid recipes will produce intervals\n",
    " - that are small\n",
    " - that contain the true value for the parameter \n",
    "\n",
    "a range of values for the parameter (activity)\n",
    " - the size of the interval is \n",
    ", following a recipe that ensures that\n",
    "the true value is contained in the range $S$ %\n",
    "\n",
    "\n",
    "\n",
    "The 95% upper confidence limit on the activity, find that v\n",
    "\n",
    "\n",
    "A frequentist confidence interval is a range of values for the parameter (activity) which are not rejected\n",
    "\n",
    "The frequentist $S$ % confidence interval produced\n",
    "\n",
    "- The frequentist confidence interval is produced by \n",
    "\n",
    "\n",
    " \n",
    "- Do a $x$% CL hypothesis test for all possible values for activity and reject those activities that fail the test.\n",
    "- The range of activities that are not rejected is called a confidence interval.\n",
    "- Since $x$% of outcomes for the true activity\n",
    "\n",
    "Suppose we "
   ]
  }
 ],
 "metadata": {
  "kernelspec": {
   "display_name": "Python 3 (ipykernel)",
   "language": "python",
   "name": "python3"
  },
  "language_info": {
   "codemirror_mode": {
    "name": "ipython",
    "version": 3
   },
   "file_extension": ".py",
   "mimetype": "text/x-python",
   "name": "python",
   "nbconvert_exporter": "python",
   "pygments_lexer": "ipython3",
   "version": "3.8.12"
  }
 },
 "nbformat": 4,
 "nbformat_minor": 5
}
