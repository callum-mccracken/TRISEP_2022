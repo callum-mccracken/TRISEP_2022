{
 "cells": [
  {
   "cell_type": "code",
   "execution_count": null,
   "id": "21ddf64a-0d02-4210-8e97-ebeb69456791",
   "metadata": {},
   "outputs": [],
   "source": [
    "# Scratch notebook for rough calculations"
   ]
  },
  {
   "cell_type": "code",
   "execution_count": 1,
   "id": "67c3dd51-95ea-4a41-9e0d-7b0ebc8b8f70",
   "metadata": {},
   "outputs": [],
   "source": [
    "# Import modules\n",
    "\n",
    "from trisep.RadioactiveSource import RadioactiveSource\n",
    "from trisep.RadiationCounter import RadiationCounter, SimulatedRadiationCounter\n",
    "from trisep.LifetimeExperiment import LifetimeExperiment, SimulatedLifetimeExperiment\n",
    "from trisep.MarkovChain import MarkovChain\n",
    "import copy\n",
    "import numpy as np\n",
    "from scipy import stats\n",
    "import pandas as pd\n",
    "\n",
    "%matplotlib inline\n",
    "import matplotlib.pyplot as plt\n",
    "plt.style.use('dark_background') # only include this if you use a dark background for Jupyter Lab\n",
    "\n",
    "from iminuit import Minuit"
   ]
  },
  {
   "cell_type": "code",
   "execution_count": null,
   "id": "0804f5a9-eede-4ff3-83f2-8e6712ee7f33",
   "metadata": {},
   "outputs": [],
   "source": []
  }
 ],
 "metadata": {
  "kernelspec": {
   "display_name": "Python 3.10.4 ('trisep')",
   "language": "python",
   "name": "python3"
  },
  "language_info": {
   "codemirror_mode": {
    "name": "ipython",
    "version": 3
   },
   "file_extension": ".py",
   "mimetype": "text/x-python",
   "name": "python",
   "nbconvert_exporter": "python",
   "pygments_lexer": "ipython3",
   "version": "3.10.4"
  },
  "vscode": {
   "interpreter": {
    "hash": "c58921df5c6489fa188207e277f3720ee4272b5f4b5ba9c77debc4d7527b0f01"
   }
  }
 },
 "nbformat": 4,
 "nbformat_minor": 5
}
