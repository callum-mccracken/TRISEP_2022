{
 "cells": [
  {
   "cell_type": "markdown",
   "id": "35e2d3f4-06bf-497f-9dce-bc0bf3913c70",
   "metadata": {},
   "source": [
    "# 2.B: Model the lifetime experiment (perfect setup)\n",
    "\n",
    "Even though it is not realistic, we start by considering a perfect experiment, before adding more complexity."
   ]
  },
  {
   "cell_type": "code",
   "execution_count": null,
   "id": "ea5c06b0-6242-4308-b17b-53582011f15f",
   "metadata": {},
   "outputs": [],
   "source": [
    "# Import modules needed for this tutorial\n",
    "from trisep.LifetimeExperiment import SimulatedLifetimeExperiment\n",
    "\n",
    "import numpy as np\n",
    "from scipy import stats\n",
    "\n",
    "%matplotlib inline\n",
    "import matplotlib.pyplot as plt\n",
    "plt.style.use('dark_background') # only include this if you use a dark background for Jupyter Lab\n",
    "\n",
    "from iminuit import Minuit"
   ]
  },
  {
   "cell_type": "code",
   "execution_count": null,
   "id": "8d192b67-5382-46c8-82c7-54793de61ef9",
   "metadata": {},
   "outputs": [],
   "source": [
    "# Build a simulation of a perfect setup\n",
    "\n",
    "sim_experiment = SimulatedLifetimeExperiment(isotope_lifetime=0.03)\n",
    "sim_experiment.set_counting_time(10)\n",
    "counting_time = sim_experiment.get_counting_time()\n",
    "\n",
    "sim_experiment.start()\n",
    "times = sim_experiment.get_times()\n",
    "print('In',counting_time,'seconds, we saw',len(times),'decays')\n",
    "\n",
    "mean_time = np.mean(times)\n",
    "print('The mean decay time is',round(mean_time,4),'seconds')"
   ]
  },
  {
   "cell_type": "code",
   "execution_count": null,
   "id": "0c8d6e0b-fc2d-4735-8e07-58a9d20f6647",
   "metadata": {},
   "outputs": [],
   "source": [
    "# run 100 simulations and look at descriptive statistics for mean lifetime\n",
    "\n"
   ]
  },
  {
   "cell_type": "code",
   "execution_count": null,
   "id": "ecb57a8a-6163-441d-bed1-819762bb35f3",
   "metadata": {},
   "outputs": [],
   "source": [
    "# Since the real experiment is NOT perfect, let's analyze a simulated perfect experiment using a model of a perfect experiment\n",
    "\n",
    "sim_experiment.start()\n",
    "sim_times = sim_experiment.get_times()\n",
    "\n",
    "log_likelihood = sim_experiment.get_log_likelihood(sim_times)\n",
    "print('Log likelihood is',round(log_likelihood,4))\n",
    "\n",
    "mean_time = np.mean(sim_times)\n",
    "print('The mean decay time is',round(mean_time,4),'seconds')"
   ]
  },
  {
   "cell_type": "code",
   "execution_count": null,
   "id": "a3a65862-64e1-4ea9-93c4-8830bdbe386b",
   "metadata": {},
   "outputs": [],
   "source": [
    "# Use minuit to find lifetime (tau) that maximizes the likelihood\n",
    "\n",
    "# make the model to calculate the likelihood for any value of tau\n",
    "\n",
    "model = SimulatedLifetimeExperiment(isotope_lifetime=0.03)\n",
    "model.set_counting_time(counting_time)\n",
    "\n",
    "def get_neg_log_likelihood(tau):\n",
    "    # ADD CODE TO CALCULATE THE NEGATIVE LOG LIKELIHOOD:\n",
    "\n",
    "get_neg_log_likelihood.errordef = Minuit.LIKELIHOOD\n",
    "\n",
    "m = Minuit(get_neg_log_likelihood, tau=0.03)\n",
    "m.limits['tau'] = (0., 0.1)\n",
    "\n",
    "m.migrad()\n",
    "\n",
    "print('maximum likelihood estimate:',round(m.values['tau'],4))"
   ]
  },
  {
   "cell_type": "markdown",
   "id": "89c4f334-ef29-4e1a-bb72-6720f04c9763",
   "metadata": {},
   "source": [
    "### Question: is it surprising that the maximum likelihood estimate is very close to the mean lifetime?\n",
    "\n",
    " - Not difficult to show that the maximum likelihood estimate is the mean lifetime"
   ]
  },
  {
   "cell_type": "code",
   "execution_count": null,
   "id": "01c5af3c-fdb8-4476-89e5-744fdd83bda9",
   "metadata": {},
   "outputs": [],
   "source": [
    "# use the minuit package to show the negative log likelihood\n",
    "\n",
    "# the quoted 68% interval is approximate: using the curvature of the loglikelihood at the point estimate\n",
    "\n",
    "m.draw_profile('tau');"
   ]
  },
  {
   "cell_type": "markdown",
   "id": "920bfa23-f3fc-4102-b5cd-dccb82e2d3ad",
   "metadata": {},
   "source": [
    "## Rigorous Frequentist interval\n",
    "\n",
    " - The estimator is normal distributed with mean $\\tau$ and standard deviation $\\frac{\\tau}{\\sqrt{n}}$.\n",
    " - The rigorous central 68% interval is derived by defining a hypothesis test for every possible $\\tau$\n",
    "   - the interval contains all true values for tau that are not rejected by the hypothesis test\n",
    "   - the region formed is called a confidence belt, from which a confidence interval can be derived"
   ]
  },
  {
   "cell_type": "code",
   "execution_count": null,
   "id": "403aaec7-132f-4dd9-8930-51d9d1c86211",
   "metadata": {},
   "outputs": [],
   "source": [
    "taus = np.arange(0.01,0.08,0.001)\n",
    "\n",
    "tau_hat = np.mean(sim_times)\n",
    "n = len(sim_times)\n",
    "\n",
    "lower_cut = []\n",
    "upper_cut = []\n",
    "\n",
    "for tau in taus:\n",
    "    # lowest observed value that passes hypothesis test\n",
    "    lower_cut.append(?)\n",
    "    # highest observed value that passes hypothesis test\n",
    "    upper_cut.append(?)\n",
    "\n",
    "    \n",
    "# derive the intersection points, which define the confidence interval end points\n",
    "tau_lower = ?\n",
    "tau_upper = ?\n",
    "    \n",
    "plt.plot(lower_cut,taus,label='lower cut',lw=3)\n",
    "plt.plot(upper_cut,taus,label='upper cut',lw=3)\n",
    "plt.fill_betweenx(taus,lower_cut,upper_cut,color='brown')\n",
    "plt.axvline(x=tau_hat,ls=':')\n",
    "#plt.axhline(y=tau_lower,ls=':')\n",
    "#plt.axhline(y=tau_upper,ls=':')\n",
    "plt.ylabel('true tau')\n",
    "plt.xlabel('mean lifetime')\n",
    "plt.legend()\n",
    "plt.xlim(0.005,0.05)\n",
    "plt.ylim(0.005,0.05)\n",
    "plt.show()\n",
    "\n",
    "#print('rigorous 68% confidence interval: [',round(tau_lower,4),',',round(tau_upper,4),']')"
   ]
  },
  {
   "cell_type": "code",
   "execution_count": null,
   "id": "827d00be-3e67-4b97-bf29-c56981b3eddb",
   "metadata": {},
   "outputs": [],
   "source": [
    "# Run the analysis with much less data - do the intervals agree?"
   ]
  }
 ],
 "metadata": {
  "kernelspec": {
   "display_name": "Python 3.10.4 ('trisep')",
   "language": "python",
   "name": "python3"
  },
  "language_info": {
   "codemirror_mode": {
    "name": "ipython",
    "version": 3
   },
   "file_extension": ".py",
   "mimetype": "text/x-python",
   "name": "python",
   "nbconvert_exporter": "python",
   "pygments_lexer": "ipython3",
   "version": "3.10.4"
  },
  "vscode": {
   "interpreter": {
    "hash": "c58921df5c6489fa188207e277f3720ee4272b5f4b5ba9c77debc4d7527b0f01"
   }
  }
 },
 "nbformat": 4,
 "nbformat_minor": 5
}
