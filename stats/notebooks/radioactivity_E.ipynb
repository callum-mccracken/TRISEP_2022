{
 "cells": [
  {
   "cell_type": "markdown",
   "id": "6b427dcf-ff73-4d45-a833-4d9387e1a79a",
   "metadata": {},
   "source": [
    "# 1.E: Including background in the model\n",
    "\n",
    "It is possible that cosmic rays or natural radioactivity within the detector \n",
    "might be a source of background counts, in the experiment.\n",
    "If we do not account for such background events, our estimator for the source activity\n",
    "may be biased.\n",
    "\n",
    "Model this by including a second parameter: the background rate, $b$.\n",
    "\n",
    "$$N = N_a + N_b$$\n",
    "\n",
    "$$E[N] = E[N_a]+E[N_b] = a\\, t + b\\, t$$\n",
    "\n",
    "If the background rate, $b$, is well known and small compared to the source activity,\n",
    "a simple point estimate, $\\hat{a}=n/t - b$, might be suitable. \n",
    "Unfortunately we do not know the background rate."
   ]
  },
  {
   "cell_type": "code",
   "execution_count": null,
   "id": "b0ca5c96-cb23-4a00-85bc-551735fd0571",
   "metadata": {},
   "outputs": [],
   "source": [
    "# Import modules needed for this tutorial\n",
    "\n",
    "from trisep.RadioactiveSource import RadioactiveSource\n",
    "from trisep.RadiationCounter import RadiationCounter, SimulatedRadiationCounter\n",
    "\n",
    "import numpy as np\n",
    "\n",
    "%matplotlib inline\n",
    "import matplotlib.pyplot as plt\n",
    "plt.style.use('dark_background') # only include this if you use a dark background for Jupyter Lab"
   ]
  },
  {
   "cell_type": "markdown",
   "id": "3225025f-49a1-473b-9142-77dc93159eb5",
   "metadata": {},
   "source": [
    "For this experiment, we don't know the background rate. Let's try operating the detector without a source inside:"
   ]
  },
  {
   "cell_type": "code",
   "execution_count": null,
   "id": "73025f66-177e-4b0e-ab90-2fafe9fb0458",
   "metadata": {},
   "outputs": [],
   "source": [
    "# run the detector for 30 seconds with no source\n",
    "\n",
    "control_detector = RadiationCounter()\n",
    "\n",
    "control_detector.set_counting_time(30.)\n",
    "control_time = control_detector.get_counting_time()\n",
    "\n",
    "control_detector.start()\n",
    "background_count = control_detector.get_count()\n",
    "print('The lab detector counted',background_count,'decays in',control_time,' seconds without a source')\n"
   ]
  },
  {
   "cell_type": "markdown",
   "id": "537dc573-b53f-4e35-83f5-8f9e39ed5717",
   "metadata": {},
   "source": [
    "## Joint likelihood\n",
    "\n",
    "The joint likelihood function, ${\\cal L}(a,b)$, is the product of the individual likelihood\n",
    "functions for the two experiments.\n",
    "\n",
    "**Question**: Why is it simply the product?\n",
    "\n",
    "${\\cal L}(a,b) = {\\cal L}_{\\rm lab}(a,b) \\times {\\cal L}_{\\rm control}(b)$\n",
    "\n",
    "Or, written out in terms of probabilities:\n",
    "\n",
    "$P(N_{\\rm lab}=n_{\\rm lab},N_{\\rm control}=n_{\\rm control}|a,b)=P(N_{\\rm lab}=n_{\\rm lab}|a,b) \\times P(N_{\\rm control}=n_{\\rm control}|b)$\n",
    "\n",
    "To visualize the joint log likelihood function, we can make a contour plot. Good point estimates $\\hat{a}$ and $\\hat{b}$ are at the point of maximum likelihood."
   ]
  },
  {
   "cell_type": "code",
   "execution_count": null,
   "id": "93d0d8be-a17d-48a7-ac20-8f391bb7a8e5",
   "metadata": {},
   "outputs": [],
   "source": [
    "# Consider the following observed data:\n",
    "# - with source inserted: 6 counts seen in 10 seconds\n",
    "# - without source inserted: 5 counts seen in 30 seconds\n",
    "\n",
    "observed = 6\n",
    "observed_control = 5\n",
    "\n",
    "# make model of control experiment (no source)\n",
    "\n",
    "sim_control_detector = SimulatedRadiationCounter()\n",
    "sim_control_detector.set_counting_time(30.)\n",
    "\n",
    "# make model of experiment with source\n",
    "\n",
    "simulated_source = RadioactiveSource(0.6) # specifies the activity of simulated source\n",
    "\n",
    "sim_detector = SimulatedRadiationCounter()\n",
    "sim_detector.set_counting_time(10)\n",
    "sim_detector.insert_known_source(simulated_source)\n",
    "\n",
    "# setup a mesh of values for the 2 parameters\n",
    "\n",
    "a_vals = np.arange(0.02,1.2,0.02)\n",
    "b_vals = np.arange(0.04,0.40,0.01)\n",
    "a_mesh, b_mesh = np.meshgrid(a_vals,b_vals)\n",
    "\n",
    "max_ll = -100\n",
    "max_a = None\n",
    "max_b = None\n",
    "joint = []\n",
    "for b in b_vals:\n",
    "    row = []\n",
    "    for a in a_vals:\n",
    "        simulated_source.set_activity(a)\n",
    "        sim_detector.set_background(b)\n",
    "        sim_likelihood = sim_detector.get_likelihood(observed)\n",
    "        \n",
    "        sim_control_detector.set_background(b)\n",
    "        sim_control_likelihood = sim_control_detector.get_likelihood(observed_control)\n",
    "        \n",
    "        # Calculate the joint log likelihood for the two parameters a and b:\n",
    "        log_likelihood = \n",
    "        \n",
    "        row.append(log_likelihood)\n",
    "        if log_likelihood > max_ll:\n",
    "            max_ll = log_likelihood\n",
    "            max_a = a\n",
    "            max_b = b\n",
    "            \n",
    "    joint.append(row)\n",
    "\n",
    "# set zero at the maximum\n",
    "joint_offset = []\n",
    "for row in joint:\n",
    "    joint_offset.append(np.array(row)-max_ll)\n",
    "\n",
    "print('Likelihood maximized at a=',round(max_a,2),' and b=',round(max_b,2))\n",
    "\n",
    "#%%\n",
    "\n",
    "fig, ax = plt.subplots()\n",
    "CS = ax.contour(a_mesh, b_mesh, joint_offset, 12)\n",
    "ax.clabel(CS, inline=True, fontsize=10)\n",
    "ax.set_title('Joint delta log likelihood')\n",
    "\n",
    "ax.plot([max_a],[max_b],marker='o',ms=4,color='red')\n",
    "plt.show()"
   ]
  },
  {
   "cell_type": "markdown",
   "id": "dbd2a135-e112-48b1-829d-217846822e82",
   "metadata": {},
   "source": [
    "## Approximate 2D confidence interval\n",
    "\n",
    "For a single parameter, an approximate 68% (90%) confidence interval is the set of parameters that yield a log likelihood within 0.5 (1.36) of the maximum.\n",
    "\n",
    "For 2 parameters, an approximate 68% (90%) confidence interval is the region for which the parameters yield a log likelihood within 1.15 (2.31) of the maximum.\n",
    "\n",
    "For this example, a broader range of activities are in the 90% confidence interval than in the case without background. \n",
    "The presence of background increases the uncertainty in the source activity."
   ]
  },
  {
   "cell_type": "markdown",
   "id": "0b24244d-c44f-4378-883e-5af5bf176adc",
   "metadata": {},
   "source": [
    "## Rigorous 2D frequentist interval\n",
    "\n",
    "While it is possible, it is challenging to implement a method that guarantees coverage. I recommend against doing so.\n",
    "\n",
    "## Rigorous 1D frequentist interval\n",
    "\n",
    "There are adhoc approaches to collapse the joint likelihood function to 1D (a function of $a$ alone). I recommend against these, and do a Bayesian analysis instead."
   ]
  },
  {
   "cell_type": "code",
   "execution_count": null,
   "id": "68c9208a-9b04-49d8-8c61-7518112b39d1",
   "metadata": {},
   "outputs": [],
   "source": []
  }
 ],
 "metadata": {
  "kernelspec": {
   "display_name": "Python 3.6 (with ROOT)",
   "language": "python",
   "name": "python3"
  },
  "language_info": {
   "codemirror_mode": {
    "name": "ipython",
    "version": 3
   },
   "file_extension": ".py",
   "mimetype": "text/x-python",
   "name": "python",
   "nbconvert_exporter": "python",
   "pygments_lexer": "ipython3",
   "version": "3.6.8"
  }
 },
 "nbformat": 4,
 "nbformat_minor": 5
}
