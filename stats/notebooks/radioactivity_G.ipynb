{
 "cells": [
  {
   "cell_type": "markdown",
   "id": "1c5deb61-74e9-410b-8420-720abb388289",
   "metadata": {},
   "source": [
    "# 1.G: Including inefficiency and background in the model\n",
    "\n",
    "Suppose that the detector only records a fraction of all decays that occur.\n",
    "If we do not account for such inefficiencies, our estimator for the activity\n",
    "may be biased.\n",
    "\n",
    "Model this by including a third parameter: the efficiency, $\\epsilon$.\n",
    "\n",
    "$$N = N_a + N_b$$\n",
    "\n",
    "$$E[N] = E[N_a]+E[N_b] = \\epsilon\\, a\\times t + b\\times t$$\n",
    "\n",
    "If the efficiency, $\\epsilon$, and background rate, $b$, are well known,\n",
    "a simple point estimate, $\\hat{a}=(n/t - b)/\\epsilon$, might be suitable. \n",
    "Unfortunately $\\epsilon$ and $b$ are not known."
   ]
  },
  {
   "cell_type": "code",
   "execution_count": null,
   "id": "52240d37-3d6a-45db-bb86-7b9cfe492889",
   "metadata": {},
   "outputs": [],
   "source": [
    "# Import modules needed for this tutorial\n",
    "\n",
    "from trisep.RadioactiveSource import RadioactiveSource\n",
    "from trisep.RadiationCounter import RadiationCounter, SimulatedRadiationCounter\n",
    "from trisep.MarkovChain import MarkovChain\n",
    "import copy\n",
    "import numpy as np\n",
    "from scipy import stats\n",
    "import pandas as pd\n",
    "\n",
    "%matplotlib inline\n",
    "import matplotlib.pyplot as plt\n",
    "plt.style.use('dark_background') # only include this if you use a dark background for Jupyter Lab\n",
    "\n",
    "from iminuit import Minuit"
   ]
  },
  {
   "cell_type": "markdown",
   "id": "cb18e04b-ea82-4b61-879f-94872511abc1",
   "metadata": {},
   "source": [
    "For this experiment, we determine the efficiency by operating the detector with a\n",
    "calibrated source inside."
   ]
  },
  {
   "cell_type": "code",
   "execution_count": null,
   "id": "76abf0cc-c212-4503-a6e2-647574ce2886",
   "metadata": {},
   "outputs": [],
   "source": [
    "# run the detector for 30 seconds with a calibrated source that is 30 Bq.\n",
    "\n",
    "calib_detector = RadiationCounter()\n",
    "calib_source = RadioactiveSource(30.)\n",
    "\n",
    "calib_detector.insert_known_source(calib_source)\n",
    "calib_detector.set_counting_time(30.)\n",
    "calib_time = calib_detector.get_counting_time()\n",
    "\n",
    "calib_detector.start()\n",
    "calib_count = calib_detector.get_count()\n",
    "print('The lab detector counted',calib_count,'decays in',calib_time,' seconds with the calibrated source')\n"
   ]
  },
  {
   "cell_type": "markdown",
   "id": "5b142f7b-75ef-419b-b8a4-18fe9f23db7a",
   "metadata": {},
   "source": [
    "## Point estimate for activity\n",
    "\n",
    "Use the joint likelihood function, ${\\cal L}(a,b,\\epsilon)$, and find the values of the parameters that maximize the likelihood.\n",
    "\n",
    "The three measurements are independent, so the joint likelihood function is the product\n",
    "of the individual likelihood functions:\n",
    "\n",
    "$${\\cal L}(a,b,\\epsilon) = {\\cal L}_{\\rm lab}(a,b,\\epsilon) \\times {\\cal L}_{\\rm control}(b)\\times {\\cal L}_{\\rm calib}(b,\\epsilon)$$\n",
    "\n",
    "With 3 parameters, we need to use numerical approaches to find the parameters that maximize the likelihood function. The code below uses the iminuit package to do that."
   ]
  },
  {
   "cell_type": "code",
   "execution_count": null,
   "id": "5e1fbd17-2c51-4964-8c82-e32e432324be",
   "metadata": {},
   "outputs": [],
   "source": [
    "observed = 6\n",
    "observed_control = 5\n",
    "observed_calib = 826\n",
    "\n",
    "# make model of calibration experiment (calibrated source)\n",
    "\n",
    "sim_calib_detector = SimulatedRadiationCounter()\n",
    "sim_calib_detector.insert_known_source(calib_source)\n",
    "sim_calib_detector.set_counting_time(30.)\n",
    "\n",
    "# make model of control experiment (no source)\n",
    "\n",
    "sim_control_detector = SimulatedRadiationCounter()\n",
    "sim_control_detector.set_counting_time(30.)\n",
    "\n",
    "# make model of experiment with a source\n",
    "\n",
    "simulated_source = RadioactiveSource(0.6) # specifies the activity of simulated source\n",
    "\n",
    "sim_detector = SimulatedRadiationCounter()\n",
    "sim_detector.set_counting_time(10)\n",
    "sim_detector.insert_known_source(simulated_source)\n",
    "\n",
    "\n",
    "def get_neg_log_likelihood(a,b,eps):\n",
    "    simulated_source.set_activity(a)\n",
    "    sim_detector.set_background(b)\n",
    "    sim_detector.set_efficiency(eps)\n",
    "    sim_likelihood = sim_detector.get_likelihood(observed)\n",
    "\n",
    "    sim_control_detector.set_background(b)\n",
    "    sim_control_likelihood = sim_control_detector.get_likelihood(observed_control)\n",
    "\n",
    "    sim_calib_detector.set_background(b)\n",
    "    sim_calib_detector.set_efficiency(eps)\n",
    "    sim_calib_likelihood = sim_calib_detector.get_likelihood(observed_calib)\n",
    "\n",
    "    return -1*(np.log(sim_likelihood)+np.log(sim_control_likelihood)+np.log(sim_calib_likelihood))\n",
    "\n",
    "get_neg_log_likelihood.errordef = Minuit.LIKELIHOOD\n",
    "\n",
    "m = Minuit(get_neg_log_likelihood, a=0.4, b=0.1, eps=0.9) # arguments specify starting guess\n",
    "m.limits['a'] = (0., None)\n",
    "m.limits['b'] = (0., None)\n",
    "m.limits['eps'] = (0.,1.)\n",
    "\n",
    "m.migrad()\n",
    "m.hesse()\n",
    "m.minos()"
   ]
  },
  {
   "cell_type": "markdown",
   "id": "8c979a39-53a2-4309-9090-d7918628cc1c",
   "metadata": {},
   "source": [
    "## MCMC exploration of posterior probability density\n",
    "\n",
    "Simple extension of the previous tutorial"
   ]
  },
  {
   "cell_type": "code",
   "execution_count": null,
   "id": "2fbb78c7-37c8-4d27-aefc-e9904bc332f6",
   "metadata": {},
   "outputs": [],
   "source": [
    "def logP(params):\n",
    "    a = params['a']\n",
    "    b = params['b']\n",
    "    eps = params['eps']\n",
    "    \n",
    "    neg_log_likelihood = get_neg_log_likelihood(a,b,eps)\n",
    "    \n",
    "    # assuming uniform prior:\n",
    "    return -1.*neg_log_likelihood\n",
    "\n",
    "parameters = [\n",
    "    {'name':'a','start':0.4,'step':0.1,'min':0.02,'max':1.2},\n",
    "    {'name':'b','start':0.2,'step':0.1,'min':0.04,'max':0.4},\n",
    "    {'name':'eps','start':0.9,'step':0.05,'min':0.,'max':1.0}\n",
    "]\n",
    "mcmc = MarkovChain(parameters, logP)\n",
    "chain = mcmc.get_chain(10000)"
   ]
  },
  {
   "cell_type": "code",
   "execution_count": null,
   "id": "46383e7c-3ae6-41bb-958f-ed817e3d2963",
   "metadata": {},
   "outputs": [],
   "source": [
    "# Find the 90% credible interval for the activity\n",
    "\n",
    "a_list = [dict['a'] for dict in chain]\n",
    "plt.hist(a_list)\n",
    "plt.show()\n",
    "\n",
    "a_low = np.percentile(a_list,5.)\n",
    "a_high = np.percentile(a_list,95.)\n",
    "\n",
    "print('90% credible interval for activity: [',round(a_low,3),',',round(a_high,3),']')"
   ]
  },
  {
   "cell_type": "code",
   "execution_count": null,
   "id": "bd40a940-e34a-4298-9f6e-c8b8ded03e78",
   "metadata": {},
   "outputs": [],
   "source": [
    "# Explore the 3D posterior by looking at all 1D and 2D projections\n",
    "\n",
    "df = pd.DataFrame(chain)\n",
    "pd.plotting.scatter_matrix(df,s=3,figsize=[10,10]);"
   ]
  },
  {
   "cell_type": "code",
   "execution_count": null,
   "id": "31b596f5-3330-452f-a465-fac3d633396b",
   "metadata": {},
   "outputs": [],
   "source": []
  }
 ],
 "metadata": {
  "kernelspec": {
   "display_name": "Python 3.10.4 ('trisep')",
   "language": "python",
   "name": "python3"
  },
  "language_info": {
   "codemirror_mode": {
    "name": "ipython",
    "version": 3
   },
   "file_extension": ".py",
   "mimetype": "text/x-python",
   "name": "python",
   "nbconvert_exporter": "python",
   "pygments_lexer": "ipython3",
   "version": "3.10.4"
  },
  "vscode": {
   "interpreter": {
    "hash": "c58921df5c6489fa188207e277f3720ee4272b5f4b5ba9c77debc4d7527b0f01"
   }
  }
 },
 "nbformat": 4,
 "nbformat_minor": 5
}
