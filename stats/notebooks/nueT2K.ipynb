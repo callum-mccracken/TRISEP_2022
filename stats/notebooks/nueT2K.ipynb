{
 "cells": [
  {
   "cell_type": "markdown",
   "id": "f59de2b8-fbe8-48d3-b86d-443c4a930d56",
   "metadata": {},
   "source": [
    "# 3.A: Simplified analysis of T2K $\\nu_e$ appearance data\n",
    "\n",
    "Reference: [10.1103/PhysRevLett.121.171802](https://doi.org/10.1103/PhysRevLett.121.171802)\n",
    "\n",
    "Use information from tables I and II only to form simplified posteriors for $\\sin\\delta_{CP}$ and mass ordering. These tables are shown below. The paper reports the posterior probability for normal ordering is 87%.\n",
    "\n",
    "Table I: systematic uncertainties for far-detector event yields (%):\n",
    "* $\\nu_e$: 8.8\n",
    "* $\\nu_e \\pi^+$: 18.4\n",
    "* $\\bar{\\nu}_e$: 7.1\n",
    "\n",
    "Assume that these are independent sources of systematic uncertainty.\n",
    "\n",
    "Table II: far-detector event yields (expected and observed):\n",
    "* Normal ordering:\n",
    "  * $\\nu_e$: $61.7 - 11.8\\sin\\delta_{CP}$\n",
    "  * $\\nu_e \\pi^+$: $5.9 - 1.0\\sin\\delta_{CP}$\n",
    "  * $\\bar{\\nu}_e$: $9.0 + 1.0\\sin\\delta_{CP}$\n",
    "* Inverted ordering:\n",
    "  * $\\nu_e$: $54.2 - 10.7\\sin\\delta_{CP}$\n",
    "  * $\\nu_e \\pi^+$: $5.2 - 1.0\\sin\\delta_{CP}$\n",
    "  * $\\bar{\\nu}_e$: $9.8 + 1.2\\sin\\delta_{CP}$\n",
    "* Observed:\n",
    "  * $\\nu_e$: 74\n",
    "  * $\\nu_e \\pi^+$: 15\n",
    "  * $\\bar{\\nu}_e$: 7\n",
    "\n",
    "The extracted functional dependence from Table II data assumes a linear dependence on $\\sin\\delta_{CP}$. Ignore the other physics systematic parameters.\n",
    "\n",
    "Use the MCMC approach to explore the posterior probability for the 5 parameters:\n",
    " - mass ordering (mo)\n",
    " - $\\sin\\delta_{CP}$ (sdcp)\n",
    " - scaling parameters for the 3 expected yields\n"
   ]
  },
  {
   "cell_type": "code",
   "execution_count": 1,
   "id": "6a999248-0e5e-495e-bbe7-491c0a045a20",
   "metadata": {},
   "outputs": [],
   "source": [
    "# Import modules\n",
    "\n",
    "import numpy as np\n",
    "from trisep.MarkovChain import MarkovChain\n",
    "\n",
    "%matplotlib inline\n",
    "import matplotlib.pyplot as plt\n",
    "plt.style.use('dark_background')\n",
    "import pandas as pd"
   ]
  },
  {
   "cell_type": "code",
   "execution_count": 2,
   "id": "353df16f-b792-412b-9ff2-ebc49eeea754",
   "metadata": {},
   "outputs": [
    {
     "ename": "SyntaxError",
     "evalue": "invalid syntax (3975123114.py, line 32)",
     "output_type": "error",
     "traceback": [
      "\u001b[0;36m  Input \u001b[0;32mIn [2]\u001b[0;36m\u001b[0m\n\u001b[0;31m    logLt2k = ?\u001b[0m\n\u001b[0m              ^\u001b[0m\n\u001b[0;31mSyntaxError\u001b[0m\u001b[0;31m:\u001b[0m invalid syntax\n"
     ]
    }
   ],
   "source": [
    "# Calculate the log posterior probability for a set of parameters:\n",
    "\n",
    "# systematic uncertainties (scale factor)\n",
    "nue_sys = 0.088\n",
    "nuepi_sys = 0.184\n",
    "nuebar_sys = 0.071\n",
    "\n",
    "# observed numbers of events\n",
    "nue_obs = 74\n",
    "nuepi_obs = 15\n",
    "nuebar_obs = 7\n",
    "\n",
    "def logPosterior(pars):\n",
    "    mo = pars['mo'] # mass ordering >0. = normal, <0. = inverted\n",
    "    sdcp = pars['sdcp'] # sin(delta_CP)\n",
    "    scale_nue = pars['scale_nue'] # scaling factor for nue expectation\n",
    "    scale_nuepi = pars['scale_nuepi'] # scaling factor \n",
    "    scale_nuebar = pars['scale_nuebar'] # scaling factor\n",
    "\n",
    "    # expectation values for the 3 measurements:\n",
    "    \n",
    "    nue_exp = (61.7 - 11.8*sdcp)*scale_nue\n",
    "    nuepi_exp = (5.9 - 1.0*sdcp)*scale_nuepi\n",
    "    nuebar_exp = (9.0 + 1.0*sdcp)*scale_nuebar\n",
    "    \n",
    "    if mo < 0:\n",
    "        nue_exp = (54.2 - 10.7*sdcp)*scale_nue\n",
    "        nuepi_exp = (5.2 - 1.0*sdcp)*scale_nuepi\n",
    "        nuebar_exp = (9.8 + 1.2*sdcp)*scale_nuebar\n",
    "        \n",
    "    # Calculate the log likelihood for this set of parameters\n",
    "    logLt2k = ?\n",
    "    \n",
    "    # Priors for mo and sdcp are uniform - no need to include these terms in the prior\n",
    "    \n",
    "    # Calculate the log priors for systematic parameters (Gaussian)\n",
    "    logPrior = ?\n",
    "    \n",
    "    # return the log Posterior probability (no need to be normalized)\n",
    "    return ?\n",
    "\n",
    "#%%\n",
    "\n",
    "# MCMC\n",
    "\n",
    "n_MCMC = 100000\n",
    "\n",
    "parameters = [\n",
    "    {'name':'mo','start':0.5,'step':0.2,'min':-1.,'max':1.},\n",
    "    {'name':'sdcp','start':0.,'step':0.1,'min':-1.,'max':1.},\n",
    "    {'name':'scale_nue','start':1.,'step':0.3*nue_sys,'min':0.,'max':10.},\n",
    "    {'name':'scale_nuepi','start':1.,'step':0.3*nuepi_sys,'min':0.,'max':10.},\n",
    "    {'name':'scale_nuebar','start':1.,'step':0.3*nuebar_sys,'min':0.,'max':10.}\n",
    "]\n",
    "\n",
    "mcmc = MarkovChain(parameters, logPosterior)\n",
    "chain = mcmc.get_chain(n_MCMC)"
   ]
  },
  {
   "cell_type": "code",
   "execution_count": null,
   "id": "0e7c8e9f-4c6d-443d-81db-c086487ec2b1",
   "metadata": {},
   "outputs": [],
   "source": [
    "# Look at  all 1D and 2D projections\n",
    "\n",
    "dfc = pd.DataFrame(chain)\n",
    "pd.plotting.scatter_matrix(dfc,s=1,figsize=[10,10]);"
   ]
  },
  {
   "cell_type": "code",
   "execution_count": null,
   "id": "0991d7b6-8734-4680-9f07-fc365e166152",
   "metadata": {},
   "outputs": [],
   "source": [
    "dfc['sdcp'].hist(bins=np.arange(-1.,1.01,0.05),histtype='step')\n",
    "plt.show()\n",
    "print(\"Fraction of points with sindcp > 0 = {0:5.3f}\".format(1.*len(dfc[dfc.sdcp > 0.])/len(dfc)))\n",
    "print(\"Fraction of points with normal ordering = {0:5.3f} (publication: 0.87)\".format(1.*len(dfc[dfc.mo > 0])/len(dfc)))"
   ]
  },
  {
   "cell_type": "code",
   "execution_count": null,
   "id": "5db0aacd-056c-42ae-8cbb-7de162dd2676",
   "metadata": {},
   "outputs": [],
   "source": [
    "# Consider an alternative prior for CP violation parameter. Uniform in delta, instead of uniform in sin(delta). "
   ]
  }
 ],
 "metadata": {
  "kernelspec": {
   "display_name": "Python 3.10.4 ('trisep')",
   "language": "python",
   "name": "python3"
  },
  "language_info": {
   "codemirror_mode": {
    "name": "ipython",
    "version": 3
   },
   "file_extension": ".py",
   "mimetype": "text/x-python",
   "name": "python",
   "nbconvert_exporter": "python",
   "pygments_lexer": "ipython3",
   "version": "3.10.4"
  },
  "vscode": {
   "interpreter": {
    "hash": "c58921df5c6489fa188207e277f3720ee4272b5f4b5ba9c77debc4d7527b0f01"
   }
  }
 },
 "nbformat": 4,
 "nbformat_minor": 5
}
