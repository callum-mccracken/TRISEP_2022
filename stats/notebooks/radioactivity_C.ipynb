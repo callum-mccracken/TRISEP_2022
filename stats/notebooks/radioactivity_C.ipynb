{
 "cells": [
  {
   "cell_type": "markdown",
   "id": "52aff5f9-91d9-4e4d-91b7-eb30f6559f02",
   "metadata": {},
   "source": [
    "# 1.C: Frequentist analysis of the radioactivity experiment (1 parameter)\n",
    "\n",
    "**Question:** What is the activity of this radioactive source? \n",
    "\n",
    "Since the outcome of the experiment is unpredictable, the answer to the question can only be probabilistic, not definitive. Instead of a single value, a range of possible values must be given (an *interval*) along with a probability qualifier.\n",
    "\n",
    "The method you use depends on your precise definition of probability. This tutorial shows the approach for Frequentist probability."
   ]
  },
  {
   "cell_type": "code",
   "execution_count": null,
   "id": "c9305033-5606-4f9b-b1f4-bb80b89ce692",
   "metadata": {},
   "outputs": [],
   "source": [
    "# Import modules needed for this tutorial\n",
    "\n",
    "from trisep.RadioactiveSource import RadioactiveSource\n",
    "from trisep.RadiationCounter import RadiationCounter, SimulatedRadiationCounter\n",
    "\n",
    "import numpy as np\n",
    "from scipy import stats\n",
    "\n",
    "%matplotlib inline\n",
    "import matplotlib.pyplot as plt\n",
    "plt.style.use('dark_background') # only include this if you use a dark background for Jupyter Lab"
   ]
  },
  {
   "cell_type": "markdown",
   "id": "079779a8-00c0-4af9-ae54-2b860c5068d0",
   "metadata": {},
   "source": [
    "## Frequentist confidence interval\n",
    "\n",
    "Suppose the experiment records 6 decays in 10 seconds:\n",
    "- For some values for activity, the observation (6 counts) would seem anomalous \n",
    "  - For example, if the activity was 2 Bq, it would seem unusual to record 6 (or fewer) decays in 10 seconds"
   ]
  },
  {
   "cell_type": "code",
   "execution_count": null,
   "id": "d5b576c7-223c-47bd-8627-49f5b3d60785",
   "metadata": {},
   "outputs": [],
   "source": [
    "# Does it appear reasonable that the lab source activity is 0.6 Bq?\n",
    "# Does it appear reasonable that the lab source activity is 2.0 Bq?\n",
    "\n",
    "sim_source = RadioactiveSource(2.) # specifies the activity of simulated source\n",
    "sim_detector = SimulatedRadiationCounter() # this is NOT the lab detector, just a simulation of a detector\n",
    "\n",
    "sim_detector.insert_known_source(sim_source)\n",
    "sim_detector.set_counting_time(10)\n",
    "\n",
    "sim_counts = []\n",
    "for i in range(1000):\n",
    "    sim_detector.start()\n",
    "    sim_counts.append(sim_detector.get_count())\n",
    "\n",
    "plt.hist(sim_counts,bins=np.arange(0.,40.,0.5), align='left')\n",
    "plt.show()"
   ]
  },
  {
   "cell_type": "markdown",
   "id": "84319ea2-ed22-43bd-b016-19e7556257f4",
   "metadata": {},
   "source": [
    "The likelihood to see 6 or fewer counts from a source of activity 2 Bq appears to be small indeed. How can we quantify that?\n",
    "\n",
    "\n"
   ]
  },
  {
   "cell_type": "code",
   "execution_count": null,
   "id": "f88de65c-2339-4a6a-ad33-43cf70b64e54",
   "metadata": {},
   "outputs": [],
   "source": [
    "# Look to see how often such a small number of counts occur:\n",
    "\n",
    "sim_source.set_activity(2.)\n",
    "\n",
    "observed = 6\n",
    "trials = 10000\n",
    "low_counts = 0\n",
    "\n",
    "for i in range(trials):\n",
    "\n",
    "    \n",
    "    \n",
    "print(observed,'or less counts occured in',low_counts,'of',trials,'trials')"
   ]
  },
  {
   "cell_type": "markdown",
   "id": "22a42858-ec44-46f9-971b-a1454f25c2f0",
   "metadata": {},
   "source": [
    "## Upper confidence interval\n",
    "\n",
    "A very small fraction of experiments with a 2 Bq source would see 6 or fewer counts.\n",
    "\n",
    "This study is a one-sided test of the hypothesis that the source activity is 2 Bq. \n",
    " - one-sided: Alternative hypotheses under consideration have activities lower than 2 Bq. \n",
    " - in other words, only very low counts are considered to be anomalous\n",
    "\n",
    "Review: Hypothesis tests\n",
    "\n",
    " - What is the p-value for this hypothesis test?\n",
    " - Is the 2 Bq hypothesis rejected at 95% CL?\n",
    " - What activity values are not rejected at 95% CL?\n",
    "   - Those activity values constitute the *95% upper confidence interval*, $[0,a^{upper}_{95}]$.\n",
    "   \n",
    "Confidence intervals are produced by following a recipe like this, decided upon before seeing data. The recipe is valid provided that\n",
    "at least 95% of intervals contain the true value, if the model is correct.\n",
    "\n",
    "For this example, if the true activity happens to be $a^{upper}_{95}$, the hypothesis test rejects the true hypothesis exactly 5% of repeated experiments. It is for those rare outcomes that the reported interval will not contain the true value, whereas the other experiments will report an interval containing the true value.\n",
    "\n",
    "**Question**: What about for other possible true values for the activity?\n",
    "\n",
    "**Answer**: "
   ]
  },
  {
   "cell_type": "code",
   "execution_count": null,
   "id": "e0fc62a6-6668-44f3-8fbd-cdd87943415f",
   "metadata": {},
   "outputs": [],
   "source": [
    "# Copy the code above (or probability distribution app) to calculate the probability that the true activity \n",
    "# is in the 95% upper confidence interval for  true activity = 1.1 and 1.25\n",
    "\n",
    "# First work out:\n",
    "# What is the 95% CL upper limit if 5 counts are recorded?  Answer: \n",
    "# What is the 95% CL upper limit if 6 counts are recorded?  Answer: 1.18\n",
    "# What is the 95% CL upper limit if 7 counts are recorded?  Answer: \n",
    "\n",
    "# Then work out:\n",
    "# What is the probability that true activity = 1.1 will be in 95% upper confidence interval? Answer: \n",
    "# What is the probability that true activity = 1.18 will be in 95% upper confidence interval? Answer: 95%\n",
    "# What is the probability that true activity = 1.25 will be in 95% upper confidence interval? Answer: \n",
    "\n",
    "sim_source.set_activity(1.18)\n",
    "\n",
    "observed = 6\n",
    "trials = 10000\n",
    "low_counts = 0\n",
    "\n",
    "for i in range(trials):\n",
    "    sim_detector.start()\n",
    "    if sim_detector.get_count() <= observed:\n",
    "        low_counts += 1\n",
    "    \n",
    "    \n",
    "print(observed,'or less counts occured in',low_counts,'of',trials,'trials')"
   ]
  },
  {
   "cell_type": "markdown",
   "id": "02ba0a11-1e05-41eb-b1c4-8b031ecd0bc8",
   "metadata": {
    "tags": []
   },
   "source": [
    "## Lower confidence interval and central confidence interval\n",
    "\n",
    "Follow the same approach, this time considering alternative hypotheses having higher actvities.\n",
    "\n",
    "The 95% lower confidence interval is $[a^{lower}_{95},\\infty]$.\n",
    "\n",
    "The 90% central confidence interval is $[a^{lower}_{95},a^{upper}_{95}]$."
   ]
  },
  {
   "cell_type": "markdown",
   "id": "6bbab83c-eb78-41dd-b8e5-ffc3adc5383e",
   "metadata": {},
   "source": [
    "## Frequentist central confidence interval - Summary\n",
    "\n",
    "The 90% central confidence interval is bounded by the 95% confidence lower limit\n",
    "and the 95% confidence level upper limit.\n",
    "\n",
    "The rigorous interval is [0.26,1.18]\n",
    "which is close to the approximate interval that was found to be [0.28,1.10].\n",
    "See page 280 of reference notes.\n",
    "\n",
    "The result of this analysis can reported as $0.60^{+0.58}_{-0.34}$ at the 90% confidence level.\n",
    "\n",
    "**Question**: Can you form a sentence that clearly explains what that means,\n",
    "using the word \"probability\" and 90%?"
   ]
  },
  {
   "cell_type": "code",
   "execution_count": null,
   "id": "64df8645-f2d9-45ec-a111-52ee26bfcf7f",
   "metadata": {},
   "outputs": [],
   "source": []
  }
 ],
 "metadata": {
  "kernelspec": {
   "display_name": "Python 3.6 (with ROOT)",
   "language": "python",
   "name": "python3"
  },
  "language_info": {
   "codemirror_mode": {
    "name": "ipython",
    "version": 3
   },
   "file_extension": ".py",
   "mimetype": "text/x-python",
   "name": "python",
   "nbconvert_exporter": "python",
   "pygments_lexer": "ipython3",
   "version": "3.6.8"
  }
 },
 "nbformat": 4,
 "nbformat_minor": 5
}
