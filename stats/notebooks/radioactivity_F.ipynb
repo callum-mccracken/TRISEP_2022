{
 "cells": [
  {
   "cell_type": "markdown",
   "id": "7c9e0c65-f13b-41e7-83af-952e21c7664f",
   "metadata": {},
   "source": [
    "# 1.F: Bayesian analysis with background\n",
    "\n",
    "The previous tutorial showed how the joint likelihood function can be calculated.\n",
    "With that, and the prior probability distribution for the parameters, we can\n",
    "calculate the joint posterior probability distribution for the parameters.\n",
    "\n",
    "### Markov Chain Monte Carlo\n",
    "\n",
    "MCMC is powerful approach to explore the posterior probability distribution when there are many parameters.\n",
    "\n",
    "A simple recipe can produce a set of points in the multidimensional parameter space, whose\n",
    "density follows the posterior probability distribution.\n",
    "\n",
    "With those points, we can visualize the probability density in lower dimensions (1 or 2), by simple marginalization (aka projection)."
   ]
  },
  {
   "cell_type": "code",
   "execution_count": null,
   "id": "87e6e0ed-bf36-4a65-aaf7-eb4aed0b17d5",
   "metadata": {},
   "outputs": [],
   "source": [
    "# Import modules needed for this tutorial\n",
    "\n",
    "from trisep.RadioactiveSource import RadioactiveSource\n",
    "from trisep.RadiationCounter import RadiationCounter, SimulatedRadiationCounter\n",
    "from trisep.MarkovChain import MarkovChain\n",
    "import numpy as np\n",
    "from scipy import stats\n",
    "\n",
    "%matplotlib inline\n",
    "import matplotlib.pyplot as plt\n",
    "plt.style.use('dark_background') # only include this if you use a dark background for Jupyter Lab"
   ]
  },
  {
   "cell_type": "code",
   "execution_count": null,
   "id": "528d3776-1ced-4587-beb5-edcbe60d7174",
   "metadata": {},
   "outputs": [],
   "source": [
    "# Consider the following observed data:\n",
    "# - with source inserted: 6 counts seen in 10 seconds\n",
    "# - without source inserted: 5 counts seen in 30 seconds\n",
    "\n",
    "observed = 6\n",
    "observed_control = 5\n",
    "\n",
    "# make model of control experiment (no source)\n",
    "\n",
    "sim_control_detector = SimulatedRadiationCounter()\n",
    "sim_control_detector.set_counting_time(30.)\n",
    "sim_control_time = sim_control_detector.get_counting_time()\n",
    "\n",
    "# make model of experiment with source\n",
    "\n",
    "simulated_source = RadioactiveSource(0.6) # specifies the activity of simulated source\n",
    "\n",
    "sim_detector = SimulatedRadiationCounter()\n",
    "sim_detector.set_counting_time(10)\n",
    "sim_detector.insert_known_source(simulated_source)"
   ]
  },
  {
   "cell_type": "code",
   "execution_count": null,
   "id": "fd2cd4a8-18c8-4e66-885d-53528650c3b5",
   "metadata": {},
   "outputs": [],
   "source": [
    "#calculate the log of the posterior probability density\n",
    "\n",
    "def logP(params):\n",
    "    a = params['a']\n",
    "    b = params['b']\n",
    "    simulated_source.set_activity(a)\n",
    "    sim_detector.set_background(b)\n",
    "    sim_likelihood = sim_detector.get_likelihood(observed)\n",
    "    sim_control_detector.set_background(b)\n",
    "    sim_control_likelihood = sim_control_detector.get_likelihood(observed_control)\n",
    "    # assuming uniform priors for the parameters:\n",
    "    result = \n",
    "    return result\n",
    "\n",
    "parameters = [\n",
    "    {'name':'a','start':0.4,'step':0.1,'min':0.02,'max':1.2},\n",
    "    {'name':'b','start':0.2,'step':0.1,'min':0.04,'max':0.4}\n",
    "]\n",
    "mcmc = MarkovChain(parameters, logP)\n",
    "chain = mcmc.get_chain(10000) # increase to 100000 for a better view"
   ]
  },
  {
   "cell_type": "code",
   "execution_count": null,
   "id": "a3de8a39-858f-4c36-aed7-9aa690dfd019",
   "metadata": {},
   "outputs": [],
   "source": [
    "# scatterplot of all points in the chain\n",
    "\n",
    "plt.scatter([dict['a'] for dict in chain], [dict['b'] for dict in chain], s=0.02)\n",
    "plt.show()"
   ]
  },
  {
   "cell_type": "code",
   "execution_count": null,
   "id": "308166ad-b1da-4c4e-91d0-95f6aa49b02d",
   "metadata": {},
   "outputs": [],
   "source": [
    "# make projection to activity axis, and find 90% credible interval\n",
    "\n",
    "a_list = [dict['a'] for dict in chain]\n",
    "plt.hist(a_list)\n",
    "plt.show()\n",
    "\n",
    "a_low = np.percentile(a_list,5.)\n",
    "a_high = np.percentile(a_list,95.)\n",
    "\n",
    "print('90% credible interval for activity: [',round(a_low,3),',',round(a_high,3),']')"
   ]
  },
  {
   "cell_type": "code",
   "execution_count": null,
   "id": "082a384c-2b90-47ad-b77e-67074c5f1c35",
   "metadata": {},
   "outputs": [],
   "source": [
    "# show how the chain of points is constructed\n",
    "\n",
    "mc = chain[2100:2200]\n",
    "plt.plot([dict['a'] for dict in mc], [dict['b'] for dict in mc], marker='o', ms=4, markerfacecolor='red')\n",
    "plt.xlim(0.02,1.2)\n",
    "plt.ylim(0.04,0.40)\n",
    "plt.show()"
   ]
  },
  {
   "cell_type": "code",
   "execution_count": null,
   "id": "ddf524d8-5e7e-4c8b-9140-af9f320da283",
   "metadata": {},
   "outputs": [],
   "source": [
    "# repeat the analysis above, this time with a well understood background rate \n",
    "# Low background: (b = 0.12 +/- 0.02)\n",
    "# High background: (b = 0.25 +/- 0.02)\n",
    "# NOTE: take smaller steps in b direction \n",
    "\n",
    "#calculate the log of the posterior probability density\n",
    "\n",
    "prior_b_mean = 0.12\n",
    "prior_b_sigma = 0.02\n",
    "\n",
    "def logP_alt(params):\n",
    "    a = params['a']\n",
    "    b = params['b']\n",
    "    simulated_source.set_activity(a)\n",
    "    sim_detector.set_background(b)\n",
    "    sim_likelihood = sim_detector.get_likelihood(observed)\n",
    "    sim_control_detector.set_background(b)\n",
    "    sim_control_likelihood = sim_control_detector.get_likelihood(observed_control)\n",
    "    # assuming non-uniform prior for the background rate:\n",
    "    result = \n",
    "    return result\n",
    "\n",
    "parameters = [\n",
    "    {'name':'a','start':0.4,'step':0.1,'min':0.02,'max':1.2},\n",
    "    {'name':'b','start':prior_b_mean,'step':prior_b_sigma,'min':0.04,'max':0.4}\n",
    "]\n",
    "mcmc_alt = MarkovChain(parameters, logP_alt)\n",
    "chain_alt = mcmc_alt.get_chain(10000) # increase to 100000 for a better view"
   ]
  },
  {
   "cell_type": "code",
   "execution_count": null,
   "id": "ed3921cf-52ad-4d7e-933a-d1982531e0cc",
   "metadata": {},
   "outputs": [],
   "source": [
    "# scatterplot of all points in the chain\n",
    "\n",
    "plt.scatter([dict['a'] for dict in chain_alt], [dict['b'] for dict in chain_alt], s=0.02)\n",
    "plt.show()"
   ]
  },
  {
   "cell_type": "code",
   "execution_count": null,
   "id": "42bc17bc-40ca-42e4-a22f-18c111f4db99",
   "metadata": {},
   "outputs": [],
   "source": [
    "# make projection to activity axis, and find 90% credible interval\n",
    "\n",
    "a_list_alt = [dict['a'] for dict in chain_alt]\n",
    "plt.hist(a_list_alt)\n",
    "plt.show()\n",
    "\n",
    "a_low_alt = np.percentile(a_list_alt,5.)\n",
    "a_high_alt = np.percentile(a_list_alt,95.)\n",
    "\n",
    "print('90% credible interval for activity: [',round(a_low_alt,3),',',round(a_high_alt,3),']')"
   ]
  },
  {
   "cell_type": "code",
   "execution_count": null,
   "id": "e94c4cbe-0e25-468b-8a8d-6e2423bef63a",
   "metadata": {},
   "outputs": [],
   "source": []
  }
 ],
 "metadata": {
  "kernelspec": {
   "display_name": "Python 3.6 (with ROOT)",
   "language": "python",
   "name": "python3"
  },
  "language_info": {
   "codemirror_mode": {
    "name": "ipython",
    "version": 3
   },
   "file_extension": ".py",
   "mimetype": "text/x-python",
   "name": "python",
   "nbconvert_exporter": "python",
   "pygments_lexer": "ipython3",
   "version": "3.6.8"
  }
 },
 "nbformat": 4,
 "nbformat_minor": 5
}
