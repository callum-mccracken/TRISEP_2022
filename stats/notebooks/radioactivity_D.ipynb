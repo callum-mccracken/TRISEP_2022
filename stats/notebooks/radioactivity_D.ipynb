{
 "cells": [
  {
   "cell_type": "markdown",
   "id": "d04980d4-c553-4493-8974-c07f2d1f39c0",
   "metadata": {},
   "source": [
    "# 1.D: Bayesian analysis of the radioactivity experiment (1 parameter)\n",
    "\n",
    "**Question:** What is the activity of this radioactive source? \n",
    "\n",
    "Since the outcome of the experiment is unpredictable, the answer to the question can only be probabilistic, not definitive. Instead of a single value, a range of possible values must be given (an *interval*) along with a probability qualifier.\n",
    "\n",
    "The method you use depends on your precise definition of probability. This tutorial shows the approach for *Bayesian* probability."
   ]
  },
  {
   "cell_type": "code",
   "execution_count": 1,
   "id": "c6284b4f-9037-4411-b8ce-5b494973dfda",
   "metadata": {},
   "outputs": [],
   "source": [
    "# Import modules needed for this tutorial\n",
    "\n",
    "from trisep.RadioactiveSource import RadioactiveSource\n",
    "from trisep.RadiationCounter import RadiationCounter, SimulatedRadiationCounter\n",
    "import numpy as np\n",
    "from scipy import stats\n",
    "\n",
    "%matplotlib inline\n",
    "import matplotlib.pyplot as plt\n",
    "plt.style.use('dark_background') # only include this if you use a dark background for Jupyter Lab"
   ]
  },
  {
   "cell_type": "markdown",
   "id": "f3bfa701-e392-4e2c-8e0d-9c3708d11a39",
   "metadata": {},
   "source": [
    "The Bayesian approach produces a \"credible interval\" instead of a \"confidence interval\". \n",
    "\n",
    "- The activity, $A$, is considered to be a random variable. Its probability distribution (of our degree of belief) is calculated by specifying:\n",
    "  - the distribution of our prior degree of belief, and \n",
    "  - the likelihood of observing the data\n",
    "\n",
    "- With that probability distribution, we can find a 90% credible interval, having endpoints $a_{\\rm low}$ and $a_{\\rm high}$, such that:\n",
    "$P(a_{\\rm low} \\le A \\le a_{\\rm high}|{\\rm data})=0.9$.\n",
    "\n",
    "**Question**: How does this differ from the interpretation of the \"confidence interval\"?\n",
    "\n",
    "To calculate the Bayesian probability $P(a_{\\rm low} \\le A \\le a_{\\rm high}|{\\rm data})$ (referred to as the posterior probability), we use\n",
    "Bayes rule (page 18 of reference notes) written in general form as:\n",
    "\n",
    "$$ P(A|B) = \\frac{P(B|A)P(A)}{P(B)} $$\n",
    "\n",
    "To apply this general equation to this problem, we identify the symbols as follows:\n",
    " - $A \\rightarrow a_{\\rm low} \\le A \\le a_{\\rm high}$\n",
    " - $B \\rightarrow$ data\n",
    "\n",
    "To perform the calculation, we can break up all possible activities into $m$\n",
    "sub-intervals. Since those are mutually exclusive, the total probability is just the sum of the probabilities, for example\n",
    " - $P(a_{\\rm low} \\le A \\le a_{\\rm high}|{\\rm data}) = \\sum_{i=0}^{m-1} P(a_{i} \\le A \\le a_{i+1}|{\\rm data}) \\,\\delta(i)$\n",
    "   - where $\\delta(i)$ = 1 if $[a_i,a_{i+1}]$ is inside $[a_{\\rm low}, a_{\\rm high}]$, and 0 otherwise\n",
    "\n",
    "For each sub-interval we can use Bayes theorem:\n",
    "\n",
    "$$P(a_{i} \\le A \\le a_{i+1}|{\\rm data}) = \\frac{P({\\rm data}|a_{i} \\le A \\le a_{i+1})\\,P(a_{i} \\le A \\le a_{i+1})}{P(\\rm data)}$$\n",
    " - $P({\\rm data}|a_{i} \\le A \\le a_{i+1})$ is the **likelihood**\n",
    " - $P(a_{i} \\le A \\le a_{i+1})$ is the **prior** degree of belief (before seeing data)\n",
    " - $\\eqalign{P({\\rm data})&=\\sum_{i=0}^{m-1} P({\\rm data},a_{i} \\le A \\le a_{i+1}) \\\\&=\\sum_{i=0}^{m-1} P({\\rm data}|a_{i} \\le A \\le a_{i+1}) \\,P(a_{i} \\le A \\le a_{i+1})}$"
   ]
  },
  {
   "cell_type": "markdown",
   "id": "782de6d0-573d-430d-aa0a-57de392dc241",
   "metadata": {},
   "source": [
    "## Special case: Uniform prior\n",
    "\n",
    "For the special case where the prior degree of beliefs for the sub-intervals of $A$ are equal (ie. a uniform distribution), then\n",
    "$$P(a_{i} \\le A \\le a_{i+1}) = \\frac{1}{m}$$\n",
    "and so,\n",
    "$$P(a_{i} \\le A \\le a_{i+1}|{\\rm data}) = \\frac{P({\\rm data}|a_{i} \\le A \\le a_{i+1})}{\\sum_{i=0}^{m-1} P({\\rm data},a_{i} \\le A \\le a_{i+1})}$$\n",
    "This form suggests that the likelihood can be treated as a probability distribution, that only needs to be normalized. Note that this is only the case for this special case of a uniform prior. \n",
    "\n",
    "In general, do not treat likelihood as a probability distribution of the parameter, and do not integrate the likelihood function over the parameter. The likelihood needs to be multiplied by the prior to form the posterior probability distribution for the parameter."
   ]
  },
  {
   "cell_type": "code",
   "execution_count": 8,
   "id": "4066d077-add7-4583-a869-ab25cac7791b",
   "metadata": {},
   "outputs": [
    {
     "name": "stdout",
     "output_type": "stream",
     "text": [
      "Simulated detector built. Counting time = 10.0 Efficiency = 1.0 Background rate= 0.0 (Hz)\n",
      "Posterior degree of belief that activity is in the range [ 0.26 , 1.18 ] is 0.9318880253969956\n",
      "90% credible interval: [ 0.329 , 1.183 ]\n"
     ]
    }
   ],
   "source": [
    "# Do Bayesian calculation, assuming the prior degree of belief for A is uniform from 0 to 2.\n",
    "# Break up that interval into 1000 sub-intervals\n",
    "# Calculate the degree of belief that the true value is in the rigorous frequentist interval [0.26,1.18]\n",
    "\n",
    "observed = 6\n",
    "\n",
    "sim_source = RadioactiveSource(2.) # specifies the activity of simulated source\n",
    "sim_detector = SimulatedRadiationCounter() # this is NOT the lab detector, just a simulation of a detector\n",
    "\n",
    "sim_detector.insert_known_source(sim_source)\n",
    "sim_detector.set_counting_time(10)\n",
    "\n",
    "a_prior_range = [0, 2]\n",
    "m = 1000\n",
    "a_range = np.linspace(a_prior_range[0],a_prior_range[1],num=m+1)\n",
    "prior_p = 1/m\n",
    "\n",
    "a_low = 0.26\n",
    "a_high = 1.18\n",
    "\n",
    "p_data = 0.\n",
    "p_numerator = 0.\n",
    "cumulative = []\n",
    "postp_values = []\n",
    "a_values = []\n",
    "for i in range(m):\n",
    "    # use midpoint value for activity\n",
    "    a = (a_range[i]+a_range[i+1])/2.\n",
    "    sim_source.set_activity(a)\n",
    "    likelihood = sim_detector.get_likelihood(observed)\n",
    "    # ADD CODE TO WORK OUT p_data (denominator), p_numerator, and cumulative\n",
    "    p_data += likelihood * prior_p\n",
    "    if a_low <= a <= a_high:\n",
    "        p_numerator += likelihood * prior_p\n",
    "    cumulative.append(p_data)\n",
    "    postp_values.append(likelihood * prior_p)\n",
    "    a_values.append(a)\n",
    "p_dob = p_numerator/p_data\n",
    "\n",
    "print('Posterior degree of belief that activity is in the range [',a_low,',',a_high,'] is',p_dob)\n",
    "\n",
    "# The posterior probability calculated assuming a uniform prior is similar to the confidence interval (90%)\n",
    "\n",
    "cumulative = np.array(cumulative)/p_data\n",
    "for i in range(1,m):\n",
    "    # use midpoint value for activity\n",
    "    a = (a_range[i]+a_range[i+1])/2.\n",
    "    if cumulative[i-1] < 0.05 < cumulative[i]:\n",
    "        bayes_low = a\n",
    "    elif cumulative[i-1]  < 0.95 < cumulative[i]:\n",
    "        bayes_high = a\n",
    "\n",
    "print('90% credible interval: [',round(bayes_low,3),',',round(bayes_high,3),']')"
   ]
  },
  {
   "cell_type": "code",
   "execution_count": 9,
   "id": "53c64db2-7519-4b5a-9ac7-029811971e3d",
   "metadata": {},
   "outputs": [
    {
     "data": {
      "image/png": "[encoded data removed]",
      "text/plain": [
       "<Figure size 432x288 with 1 Axes>"
      ]
     },
     "metadata": {},
     "output_type": "display_data"
    }
   ],
   "source": [
    "# Plot the posterior probability distribution\n",
    "plt.plot(a_values, postp_values)\n",
    "plt.show()\n"
   ]
  },
  {
   "cell_type": "markdown",
   "id": "4bb023d6-db2d-473a-bf89-c83f100aac2d",
   "metadata": {},
   "source": [
    "### Repeat the calculations for a prior distribution with $P(a) \\propto a$ over the same range.\n",
    "\n",
    "How does that change the posterior distribution and the credible interval?"
   ]
  },
  {
   "cell_type": "code",
   "execution_count": 11,
   "id": "def205bc-73d7-4ff6-86c5-34112c534373",
   "metadata": {},
   "outputs": [
    {
     "name": "stdout",
     "output_type": "stream",
     "text": [
      "Simulated detector built. Counting time = 10.0 Efficiency = 1.0 Background rate= 0.0 (Hz)\n",
      "Posterior degree of belief that activity is in the range [ 0.26 , 1.18 ] is 0.8967528516952552\n",
      "90% credible interval: [ 0.399 , 1.313 ]\n"
     ]
    },
    {
     "data": {
      "image/png": "[encoded data removed]",
      "text/plain": [
       "<Figure size 432x288 with 1 Axes>"
      ]
     },
     "metadata": {},
     "output_type": "display_data"
    }
   ],
   "source": [
    "# Do Bayesian calculation, assuming the prior degree of belief for A is uniform from 0 to 2.\n",
    "# Break up that interval into 1000 sub-intervals\n",
    "# Calculate the degree of belief that the true value is in the rigorous frequentist interval [0.26,1.18]\n",
    "\n",
    "observed = 6\n",
    "\n",
    "sim_source = RadioactiveSource(2.) # specifies the activity of simulated source\n",
    "sim_detector = SimulatedRadiationCounter() # this is NOT the lab detector, just a simulation of a detector\n",
    "\n",
    "sim_detector.insert_known_source(sim_source)\n",
    "sim_detector.set_counting_time(10)\n",
    "\n",
    "a_prior_range = [0, 2]\n",
    "m = 1000\n",
    "a_range = np.linspace(a_prior_range[0],a_prior_range[1],num=m+1)\n",
    "\n",
    "a_low = 0.26\n",
    "a_high = 1.18\n",
    "\n",
    "p_data = 0.\n",
    "p_numerator = 0.\n",
    "cumulative = []\n",
    "postp_values = []\n",
    "a_values = []\n",
    "for i in range(m):\n",
    "    # use midpoint value for activity\n",
    "    a = (a_range[i]+a_range[i+1])/2.\n",
    "    prior_p = a\n",
    "    sim_source.set_activity(a)\n",
    "    likelihood = sim_detector.get_likelihood(observed)\n",
    "    # ADD CODE TO WORK OUT p_data (denominator), p_numerator, and cumulative\n",
    "    p_data += likelihood * prior_p\n",
    "    if a_low <= a <= a_high:\n",
    "        p_numerator += likelihood * prior_p\n",
    "    cumulative.append(p_data)\n",
    "    postp_values.append(likelihood * prior_p)\n",
    "    a_values.append(a)\n",
    "p_dob = p_numerator/p_data\n",
    "\n",
    "print('Posterior degree of belief that activity is in the range [',a_low,',',a_high,'] is',p_dob)\n",
    "\n",
    "# The posterior probability calculated assuming a uniform prior is similar to the confidence interval (90%)\n",
    "\n",
    "cumulative = np.array(cumulative)/p_data\n",
    "for i in range(1,m):\n",
    "    # use midpoint value for activity\n",
    "    a = (a_range[i]+a_range[i+1])/2.\n",
    "    if cumulative[i-1] < 0.05 < cumulative[i]:\n",
    "        bayes_low = a\n",
    "    elif cumulative[i-1]  < 0.95 < cumulative[i]:\n",
    "        bayes_high = a\n",
    "\n",
    "print('90% credible interval: [',round(bayes_low,3),',',round(bayes_high,3),']')\n",
    "\n",
    "# Plot the posterior probability distribution\n",
    "plt.plot(a_values, postp_values)\n",
    "plt.show()\n"
   ]
  }
 ],
 "metadata": {
  "kernelspec": {
   "display_name": "Python 3.10.4 ('trisep')",
   "language": "python",
   "name": "python3"
  },
  "language_info": {
   "codemirror_mode": {
    "name": "ipython",
    "version": 3
   },
   "file_extension": ".py",
   "mimetype": "text/x-python",
   "name": "python",
   "nbconvert_exporter": "python",
   "pygments_lexer": "ipython3",
   "version": "3.10.4"
  },
  "vscode": {
   "interpreter": {
    "hash": "c58921df5c6489fa188207e277f3720ee4272b5f4b5ba9c77debc4d7527b0f01"
   }
  }
 },
 "nbformat": 4,
 "nbformat_minor": 5
}
