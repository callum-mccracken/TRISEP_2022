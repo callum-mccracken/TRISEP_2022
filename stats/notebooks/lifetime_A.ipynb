{
 "cells": [
  {
   "cell_type": "markdown",
   "id": "e695c328-75d3-4cd4-97f5-8ee8870645ec",
   "metadata": {},
   "source": [
    "# 2.A: Basic lifetime analysis\n",
    "\n",
    "**Question:** What is the lifetime of theisotope being produced? \n",
    "\n",
    "To answer this question, we will pretend to setup an experiment that produces\n",
    "isotopes one at a time, and the decay times are recorded."
   ]
  },
  {
   "cell_type": "code",
   "execution_count": 1,
   "id": "e579ca12-bbb1-41f4-a45a-6dec54108adc",
   "metadata": {},
   "outputs": [],
   "source": [
    "# Import modules needed for this tutorial\n",
    "from trisep.LifetimeExperiment import LifetimeExperiment\n",
    "import numpy as np\n",
    "from scipy import stats\n",
    "\n",
    "%matplotlib inline\n",
    "import matplotlib.pyplot as plt\n",
    "plt.style.use('dark_background') # only include this if you use a dark background for Jupyter Lab"
   ]
  },
  {
   "cell_type": "code",
   "execution_count": 2,
   "id": "2a5d19a6-5c4b-4c67-9427-0a2544029663",
   "metadata": {},
   "outputs": [
    {
     "name": "stdout",
     "output_type": "stream",
     "text": [
      "Lab lifetime experiment built. Default counting time is 10.0 seconds.\n",
      "Please wait 10 seconds...\n",
      "In 10 seconds, we saw 50 decays\n",
      "The mean decay time is 0.0254 seconds\n"
     ]
    }
   ],
   "source": [
    "# Build the lifetime experiment\n",
    "\n",
    "lifetime_experiment = LifetimeExperiment()\n",
    "\n",
    "lifetime_experiment.set_counting_time(10)  # specified in seconds: You will have to wait that long to get the result!\n",
    "counting_time = lifetime_experiment.get_counting_time()  # read back the time to make sure it was set correctly\n",
    "\n",
    "lifetime_experiment.start()\n",
    "lab_times = lifetime_experiment.get_times()\n",
    "print('In',counting_time,'seconds, we saw',len(lab_times),'decays')\n",
    "\n",
    "mean_time = np.mean(lab_times)\n",
    "print('The mean decay time is',round(mean_time,4),'seconds')\n"
   ]
  },
  {
   "cell_type": "code",
   "execution_count": 5,
   "id": "d45694a5-46e9-4f77-a52f-90dd9a138045",
   "metadata": {},
   "outputs": [
    {
     "data": {
      "image/png": "[encoded data removed]",
      "text/plain": [
       "<Figure size 432x288 with 1 Axes>"
      ]
     },
     "metadata": {},
     "output_type": "display_data"
    }
   ],
   "source": [
    "# show a histogram for the observed times\n",
    "\n",
    "plt.hist(lab_times,bins=np.arange(-0.2,0.2,0.01))\n",
    "plt.show()"
   ]
  },
  {
   "cell_type": "code",
   "execution_count": 6,
   "id": "c0b622d7-c4fa-4a6e-888c-d2ece5dd9480",
   "metadata": {},
   "outputs": [
    {
     "name": "stdout",
     "output_type": "stream",
     "text": [
      "Please wait 10 seconds...\n",
      "Please wait 10 seconds...\n",
      "Please wait 10 seconds...\n",
      "Please wait 10 seconds...\n",
      "Please wait 10 seconds...\n",
      "Please wait 10 seconds...\n",
      "Please wait 10 seconds...\n",
      "Please wait 10 seconds...\n",
      "Please wait 10 seconds...\n",
      "Please wait 10 seconds...\n",
      "0.0323 0.0076\n"
     ]
    }
   ],
   "source": [
    "# do several runs of the experiment\n",
    "\n",
    "mean_times = []\n",
    "for irun in range(10):\n",
    "    lifetime_experiment.start()\n",
    "    times = lifetime_experiment.get_times()\n",
    "    mean_times.append(np.mean(times))\n",
    "\n",
    "# Calculate some descriptive statistics for these data\n",
    "\n",
    "mean = np.mean(mean_times)\n",
    "std_dev = np.std(mean_times)\n",
    "print('mean=',round(mean,4),'std dev=',round(std_dev,4))"
   ]
  },
  {
   "cell_type": "code",
   "execution_count": 7,
   "id": "cce477ed-79f1-4954-bc32-8e8f3e80e716",
   "metadata": {},
   "outputs": [
    {
     "data": {
      "image/png": "[encoded data removed]",
      "text/plain": [
       "<Figure size 432x288 with 1 Axes>"
      ]
     },
     "metadata": {},
     "output_type": "display_data"
    }
   ],
   "source": [
    "plt.hist(mean_times);"
   ]
  },
  {
   "cell_type": "code",
   "execution_count": null,
   "id": "800ad3d6-c317-4ebd-8680-817b921cad72",
   "metadata": {},
   "outputs": [],
   "source": []
  }
 ],
 "metadata": {
  "kernelspec": {
   "display_name": "Python 3.10.4 ('trisep')",
   "language": "python",
   "name": "python3"
  },
  "language_info": {
   "codemirror_mode": {
    "name": "ipython",
    "version": 3
   },
   "file_extension": ".py",
   "mimetype": "text/x-python",
   "name": "python",
   "nbconvert_exporter": "python",
   "pygments_lexer": "ipython3",
   "version": "3.10.4"
  },
  "vscode": {
   "interpreter": {
    "hash": "c58921df5c6489fa188207e277f3720ee4272b5f4b5ba9c77debc4d7527b0f01"
   }
  }
 },
 "nbformat": 4,
 "nbformat_minor": 5
}
