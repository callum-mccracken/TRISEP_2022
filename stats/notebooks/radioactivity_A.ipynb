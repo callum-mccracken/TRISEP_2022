{
 "cells": [
  {
   "cell_type": "markdown",
   "id": "89aa95a8-962a-4d36-bbec-8d755e365a27",
   "metadata": {},
   "source": [
    "# 1.A: Basic radioactivity analysis\n",
    "\n",
    "This is the first tutorial in the TRISEP 2022 Statistics Lectures. \n",
    "\n",
    "**Question:** What is the activity of this radioactive source? \n",
    "\n",
    "To answer this question, we will pretend to use a detector in the lab that counts the number of decays in a fixed period of time.\n",
    "The cells below are set up to work through the analysis. Most of the necessary python code is added during the tutorial itself."
   ]
  },
  {
   "cell_type": "code",
   "execution_count": 1,
   "id": "a0d7216c-7fbe-45ad-b5f6-f02ccd5eed6e",
   "metadata": {},
   "outputs": [],
   "source": [
    "# Import modules needed for this tutorial\n",
    "\n",
    "from trisep.RadiationCounter import RadiationCounter\n",
    "import numpy as np\n",
    "\n",
    "%matplotlib inline\n",
    "import matplotlib.pyplot as plt\n",
    "plt.style.use('dark_background') # only include this if you use a dark background for Jupyter Lab"
   ]
  },
  {
   "cell_type": "markdown",
   "id": "648c218c-bd87-4bb0-9922-8231aad0626c",
   "metadata": {},
   "source": [
    "### Construct the lab detector"
   ]
  },
  {
   "cell_type": "code",
   "execution_count": 2,
   "id": "46e1e284-b42a-4017-afbd-bd152727d8e0",
   "metadata": {},
   "outputs": [
    {
     "name": "stdout",
     "output_type": "stream",
     "text": [
      "Lab radiation counter built. Default counting time is 10.0 seconds.\n"
     ]
    }
   ],
   "source": [
    "lab_detector = RadiationCounter()"
   ]
  },
  {
   "cell_type": "markdown",
   "id": "e65b0a39-67b8-4a8b-8f3e-bf706966600f",
   "metadata": {},
   "source": [
    "### Make a measurement:\n",
    " - set the timer to 10 seconds\n",
    " - insert the radioactive source\n",
    " - get the number of decays"
   ]
  },
  {
   "cell_type": "code",
   "execution_count": 3,
   "id": "801c5c9e-e604-499c-9fcb-3d0addf6e4ec",
   "metadata": {},
   "outputs": [
    {
     "name": "stdout",
     "output_type": "stream",
     "text": [
      "Please wait 10 seconds...\n",
      "In 10 seconds, the detector recorded 4 decays\n"
     ]
    }
   ],
   "source": [
    "lab_detector.set_counting_time(10) # specified in seconds: You will have to wait that long to get the result!\n",
    "counting_time = lab_detector.get_counting_time() # read back the time to make sure it was set correctly\n",
    "lab_detector.insert_lab_source() # put the radioactive source into the detector\n",
    "\n",
    "lab_detector.start() # reset counter and start timer\n",
    "count = lab_detector.get_count() # get the number of counts\n",
    "\n",
    "print('In',counting_time,'seconds, the detector recorded',count,'decays')"
   ]
  },
  {
   "cell_type": "code",
   "execution_count": 4,
   "id": "6dc67c4b-8386-40b2-956c-961c31416ba6",
   "metadata": {},
   "outputs": [
    {
     "name": "stdout",
     "output_type": "stream",
     "text": [
      "The activity is 0.4 decays per second\n"
     ]
    }
   ],
   "source": [
    "# Estimate the activity from these data\n",
    "\n",
    "activity = count / counting_time\n",
    "print('The activity is',activity,'decays per second')"
   ]
  },
  {
   "cell_type": "markdown",
   "id": "8f1b1837-4f43-4aec-9180-e7a53c82c372",
   "metadata": {},
   "source": [
    "### Make several measurements"
   ]
  },
  {
   "cell_type": "code",
   "execution_count": 5,
   "id": "21b95af3-aa17-4610-94df-28d97a3f86ce",
   "metadata": {},
   "outputs": [],
   "source": [
    "# Make a python list having the counts from the measurements\n",
    "counts = []\n",
    "n_counts = 10000\n",
    "lab_detector.bypass_wait = True\n",
    "for _ in range(n_counts):\n",
    "    lab_detector.start() # reset counter and start timer\n",
    "    count = lab_detector.get_count() # get the number of counts\n",
    "    counts.append(count)\n"
   ]
  },
  {
   "cell_type": "markdown",
   "id": "b5faade5-6a77-4f9b-bdda-a6899f1e2df3",
   "metadata": {},
   "source": [
    "### Show a histogram"
   ]
  },
  {
   "cell_type": "code",
   "execution_count": 6,
   "id": "8ac0de41-4d75-4337-a10c-f5e71adb0af6",
   "metadata": {},
   "outputs": [
    {
     "data": {
      "image/png": "[encoded data removed]",
      "text/plain": [
       "<Figure size 432x288 with 1 Axes>"
      ]
     },
     "metadata": {},
     "output_type": "display_data"
    }
   ],
   "source": [
    "# The following will show how frequently different counts were seen\n",
    "\n",
    "entries, bin_edges, patches = plt.hist(counts,bins=np.arange(0.,16.,0.5), align='left')\n",
    "plt.show()"
   ]
  },
  {
   "cell_type": "markdown",
   "id": "3bcc34d6-2104-4120-8168-66fa1e41d98b",
   "metadata": {},
   "source": [
    "### Summarize your measurements with descriptive statistics"
   ]
  },
  {
   "cell_type": "code",
   "execution_count": 15,
   "id": "5bf150f8-38e1-4a58-b8e8-3a054943b59a",
   "metadata": {},
   "outputs": [
    {
     "name": "stdout",
     "output_type": "stream",
     "text": [
      "   direc: array([[-0.02340527]])\n",
      "     fun: 23098.066114776033\n",
      " message: 'Optimization terminated successfully.'\n",
      "    nfev: 37\n",
      "     nit: 2\n",
      "  status: 0\n",
      " success: True\n",
      "       x: array([6.15040003])\n"
     ]
    },
    {
     "data": {
      "image/png": "[encoded data removed]",
      "text/plain": [
       "<Figure size 432x288 with 1 Axes>"
      ]
     },
     "metadata": {},
     "output_type": "display_data"
    }
   ],
   "source": [
    "import numpy as np\n",
    "import matplotlib.pyplot as plt\n",
    "from scipy.optimize import minimize\n",
    "from scipy.special import factorial\n",
    "from scipy import stats\n",
    "\n",
    "\n",
    "def poisson(k, lamb):\n",
    "    \"\"\"poisson pdf, parameter lamb is the fit parameter\"\"\"\n",
    "    return (lamb**k/factorial(k)) * np.exp(-lamb)\n",
    "\n",
    "\n",
    "def negative_log_likelihood(params, data):\n",
    "    \"\"\"\n",
    "    The negative log-Likelihood-Function\n",
    "    \"\"\"\n",
    "\n",
    "    lnl = - np.sum(np.log(poisson(data, params[0])))\n",
    "    return lnl\n",
    "\n",
    "def negative_log_likelihood(params, data):\n",
    "    ''' better alternative using scipy '''\n",
    "    return -stats.poisson.logpmf(data, params[0]).sum()\n",
    "\n",
    "\n",
    "data = np.array(counts)\n",
    "\n",
    "\n",
    "# minimize the negative log-Likelihood\n",
    "\n",
    "result = minimize(negative_log_likelihood,  # function to minimize\n",
    "                  x0=np.ones(1),            # start value\n",
    "                  args=(data,),             # additional arguments for function\n",
    "                  method='Powell',          # minimization method, see docs\n",
    "                  )\n",
    "# result is a scipy optimize result object, the fit parameters \n",
    "# are stored in result.x\n",
    "print(result)\n",
    "parameters = result.x\n",
    "\n",
    "count_estimate = parameters[0]\n",
    "\n",
    "# plot poisson-distribution with fitted parameter\n",
    "x_plot = bin_edges\n",
    "\n",
    "fit_y = stats.poisson.pmf(x_plot, *parameters)\n",
    "plt.plot(\n",
    "    x_plot,\n",
    "    fit_y * max(entries)/max(fit_y),\n",
    "    marker='o', linestyle='',\n",
    "    label='Fit result',\n",
    ")\n",
    "plt.hist(\n",
    "    counts,\n",
    "    bins=np.arange(0.,16.,0.5),\n",
    "    label='Histogram',\n",
    ")\n",
    "\n",
    "plt.legend()\n",
    "plt.show()"
   ]
  },
  {
   "cell_type": "markdown",
   "id": "b40f587b-6078-4785-a7a2-a5ca539fc88b",
   "metadata": {},
   "source": [
    "## Report your findings using typical notation: activity = $\\hat{a} \\pm \\sigma_a$ Bq"
   ]
  },
  {
   "cell_type": "code",
   "execution_count": 17,
   "id": "35b14b55-2028-44c0-8f3d-3ed0eaabbbd7",
   "metadata": {},
   "outputs": [
    {
     "name": "stdout",
     "output_type": "stream",
     "text": [
      "0.615040002865875 0.2475394885669759\n"
     ]
    }
   ],
   "source": [
    "activity_estimate = count_estimate / counting_time\n",
    "stdev = np.std(data / counting_time)\n",
    "print(activity_estimate, stdev)"
   ]
  }
 ],
 "metadata": {
  "kernelspec": {
   "display_name": "Python 3.6 (with ROOT)",
   "language": "python",
   "name": "python3"
  },
  "language_info": {
   "codemirror_mode": {
    "name": "ipython",
    "version": 3
   },
   "file_extension": ".py",
   "mimetype": "text/x-python",
   "name": "python",
   "nbconvert_exporter": "python",
   "pygments_lexer": "ipython3",
   "version": "3.6.8"
  },
  "toc-showcode": false,
  "toc-showmarkdowntxt": false,
  "toc-showtags": false
 },
 "nbformat": 4,
 "nbformat_minor": 5
}
