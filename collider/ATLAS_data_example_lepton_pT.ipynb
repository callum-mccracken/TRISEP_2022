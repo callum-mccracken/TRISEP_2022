{
 "cells": [
  {
   "cell_type": "code",
   "execution_count": null,
   "id": "37b701dd",
   "metadata": {},
   "outputs": [],
   "source": [
    "import ROOT"
   ]
  },
  {
   "cell_type": "code",
   "execution_count": null,
   "id": "67acdc40",
   "metadata": {},
   "outputs": [],
   "source": [
    "# Open Data\n",
    "## Dataset triggered by a electron/photon trigger\n",
    "# f_data = ROOT.TFile.Open(\"http://opendata.atlas.cern/release/samples/Data/DataEgamma.root\")\n",
    "f_data = ROOT.TFile.Open(\"/trisep/collider/DataEgamma.root\")\n",
    "\n",
    "## Dataset triggered by a muon trigger\n",
    "# f_data = ROOT.TFile.Open(\"http://opendata.atlas.cern/release/samples/Data/DataMuons.root\")\n",
    "# f_data = ROOT.TFile.Open(\"/trisep/collider/DataMuons.root\")\n",
    "\n",
    "# Load Tree, named mini\n",
    "tree = f_data.Get(\"mini\")\n",
    "# Load entries and print number of events\n",
    "tree.GetEntries()"
   ]
  },
  {
   "cell_type": "code",
   "execution_count": null,
   "id": "eb675334",
   "metadata": {},
   "outputs": [],
   "source": [
    "# Define histograms\n",
    "\n",
    "# TH1F constructor takes \"name\" (must be unique), \"Title\" (can be repeated), x-axis label, y-axis label, nBins, min, max\n",
    "h_lep_pt_all = ROOT.TH1F(\"lep_pt_all\", \"All lepton pT; pT [GeV]; events\",25,0,100)\n",
    "h_lep_pt_2lep = ROOT.TH1F(\"lep_pt_2lep\", \"lepton pT in events w/ 2+ leptons; pT [GeV]; events\",25,0,100)"
   ]
  },
  {
   "cell_type": "code",
   "execution_count": null,
   "id": "5cf7b7de",
   "metadata": {},
   "outputs": [],
   "source": [
    "# Main loop that runs over all events, does selections, fills histograms\n",
    "\n",
    "# Keep track of number of events I've run over\n",
    "nEvents = 0\n",
    "nEventsToRun = 100000 # useful to test on a smaller number\n",
    "\n",
    "# Declare TLorentzVectors to be used later\n",
    "leadLepton  = ROOT.TLorentzVector()\n",
    "trailLepton = ROOT.TLorentzVector()\n",
    "\n",
    "# Loop over events\n",
    "\n",
    "for event in tree:\n",
    "\n",
    "    nEvents += 1\n",
    "\n",
    "    ## print number of events, useful to make sure something is happening \n",
    "    if(nEvents%10000==0):\n",
    "        print(\"nEvents = \",nEvents)\n",
    "    if(nEvents==nEventsToRun):\n",
    "        break\n",
    "        \n",
    "    ## looping over all leptons in event\n",
    "    for j in range(tree.lep_n):\n",
    "\n",
    "        # Fill lepton histograms. Divide by 1000 to get GeV from MeV\n",
    "        h_lep_pt_all.Fill(tree.lep_pt[j]/1000)\n",
    "\n",
    "\n",
    "    # Cut #1: At least 2 leptons in event\n",
    "    if tree.lep_n >= 2:\n",
    "            \n",
    "        # Set each TLorentzVector equal to leading and trailing lepton\n",
    "        # Constructor of TLorentzVector takes pT, eta, phi, E (or other forms, see ROOT documentation)\n",
    "        leadLepton.SetPtEtaPhiE(tree.lep_pt[0]/1000., tree.lep_eta[0], tree.lep_phi[0], tree.lep_E[0]/1000.)\n",
    "        trailLepton.SetPtEtaPhiE(tree.lep_pt[1]/1000., tree.lep_eta[1], tree.lep_phi[1], tree.lep_E[1]/1000.)\n",
    "\n",
    "        # Technically this only plots the first two leptons in the event, in the case that there are more\n",
    "        h_lep_pt_2lep.Fill(leadLepton.Pt())\n",
    "        h_lep_pt_2lep.Fill(trailLepton.Pt())\n",
    "        \n",
    "        # Can add two TLorentz vectors together to get sum\n",
    "        Zcandidate = leadLepton + trailLepton\n",
    "\n",
    "        # Fill more histograms about Zcandidate \n",
    "        # ie, Zcandidate.M() gives invariant mass\n",
    "        # For more accessors, see: https://root.cern.ch/doc/master/classTLorentzVector.html\n",
    "                "
   ]
  },
  {
   "cell_type": "code",
   "execution_count": null,
   "id": "5ffc13b9",
   "metadata": {},
   "outputs": [],
   "source": [
    "# Make plots!\n",
    "\n",
    "# First, define canvas\n",
    "c1 = ROOT.TCanvas(\"Canvas\",\"first canvas\",800,600)\n",
    "\n",
    "# Draw histograms\n",
    "\n",
    "h_lep_pt_all.SetFillColor(3)\n",
    "h_lep_pt_all.Draw()\n",
    "c1.Draw()\n",
    "c1.Print(\"electron_pT_all.pdf\")"
   ]
  },
  {
   "cell_type": "code",
   "execution_count": null,
   "id": "015372ba",
   "metadata": {},
   "outputs": [],
   "source": [
    "# Compare shapes of lepton pT distributions: all leptons in all events, \n",
    "    # to leading and subleading leptons in 2 lepton events\n",
    "\n",
    "c2 = ROOT.TCanvas(\"Canvas 2\",\"Lepton pTs\",800,600)\n",
    "\n",
    "h_lep_pt_all.SetFillStyle(3002)\n",
    "h_lep_pt_all.SetFillColor(3)\n",
    "h_lep_pt_all.SetLineColor(3)\n",
    "\n",
    "h_lep_pt_2lep.SetFillStyle(3003)\n",
    "h_lep_pt_2lep.SetFillColor(4)\n",
    "h_lep_pt_2lep.SetLineColor(4)\n",
    "\n",
    "legend=ROOT.TLegend(0.5,0.7,0.9,0.9)\n",
    "legend.AddEntry(h_lep_pt_all,\"all Leptons \",\"l\")\n",
    "legend.AddEntry(h_lep_pt_2lep,\"Leading 2 leptons\",\"l\")\n",
    "\n",
    "h_lep_pt_all.SetStats(0)\n",
    "h_lep_pt_2lep.SetStats(0)\n",
    "\n",
    "# To compare shapes, draw distributions normalized to unity area\n",
    "h_lep_pt_all.DrawNormalized()\n",
    "h_lep_pt_2lep.DrawNormalized(\"same\")\n",
    "\n",
    "legend.Draw()\n",
    "c2.Draw()"
   ]
  },
  {
   "cell_type": "code",
   "execution_count": null,
   "id": "edecf759",
   "metadata": {},
   "outputs": [],
   "source": []
  }
 ],
 "metadata": {
  "kernelspec": {
   "display_name": "Python 3.6 (with ROOT)",
   "language": "python",
   "name": "python3"
  },
  "language_info": {
   "codemirror_mode": {
    "name": "ipython",
    "version": 3
   },
   "file_extension": ".py",
   "mimetype": "text/x-python",
   "name": "python",
   "nbconvert_exporter": "python",
   "pygments_lexer": "ipython3",
   "version": "3.6.8"
  }
 },
 "nbformat": 4,
 "nbformat_minor": 5
}
